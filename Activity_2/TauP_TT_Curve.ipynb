{
 "cells": [
  {
   "cell_type": "markdown",
   "id": "positive-cemetery",
   "metadata": {},
   "source": [
    "TauP Travel Time Curves\n",
    "\n",
    "This is a simple notebook to premit the plotting of travel time curves or to calculate the main arrivals given an earthquake and station location.\n",
    "\n",
    "This notebook is primarily for utilarian use. "
   ]
  },
  {
   "cell_type": "code",
   "execution_count": 13,
   "id": "uniform-webmaster",
   "metadata": {},
   "outputs": [],
   "source": [
    "#As always the first step is to add the libraries required\n",
    "\n",
    "import obspy\n",
    "from obspy.taup import plot_travel_times,TauPyModel\n",
    "from obspy.geodetics.base import gps2dist_azimuth\n",
    "from obspy.geodetics.base import kilometers2degrees\n",
    "import matplotlib.pyplot as plt\n",
    "\n",
    "#set the travel time model to use\n",
    "model = TauPyModel(model=\"iasp91\")"
   ]
  },
  {
   "cell_type": "code",
   "execution_count": 17,
   "id": "automotive-vegetable",
   "metadata": {},
   "outputs": [
    {
     "name": "stdout",
     "output_type": "stream",
     "text": [
      "There were 2 epicentral distances without an arrival\n"
     ]
    },
    {
     "data": {
      "image/png": "[encoded data removed]",
      "text/plain": [
       "<Figure size 432x288 with 1 Axes>"
      ]
     },
     "metadata": {
      "needs_background": "light"
     },
     "output_type": "display_data"
    },
    {
     "data": {
      "text/plain": [
       "<matplotlib.axes._subplots.AxesSubplot at 0x7fe5513900a0>"
      ]
     },
     "execution_count": 17,
     "metadata": {},
     "output_type": "execute_result"
    }
   ],
   "source": [
    "#plots travel time curve of P,S, and PKP,SKS for an earthquake of given depth from 0-180º epicentral distance\n",
    "evdp=32.2\n",
    "phases=[\"P\", \"S\",\"PKP\",\"SKS\"]\n",
    "plot_travel_times(source_depth=evdp, phase_list=phases, verbose=True)"
   ]
  },
  {
   "cell_type": "code",
   "execution_count": 16,
   "id": "adapted-input",
   "metadata": {},
   "outputs": [
    {
     "name": "stdout",
     "output_type": "stream",
     "text": [
      "28 arrivals\n",
      "\tP phase arrival at 700.500 seconds\n",
      "\tpP phase arrival at 710.612 seconds\n",
      "\tPcP phase arrival at 713.317 seconds\n",
      "\tsP phase arrival at 714.609 seconds\n",
      "\tPP phase arrival at 869.329 seconds\n",
      "\tPKiKP phase arrival at 1048.940 seconds\n",
      "\tpPKiKP phase arrival at 1059.556 seconds\n",
      "\tsPKiKP phase arrival at 1063.444 seconds\n",
      "\tSKiKP phase arrival at 1260.008 seconds\n",
      "\tS phase arrival at 1278.730 seconds\n",
      "\tpS phase arrival at 1291.588 seconds\n",
      "\tsS phase arrival at 1295.976 seconds\n",
      "\tSKS phase arrival at 1306.901 seconds\n",
      "\tSKKS phase arrival at 1307.682 seconds\n",
      "\tScS phase arrival at 1310.980 seconds\n",
      "\tSP phase arrival at 1312.990 seconds\n",
      "\tPS phase arrival at 1317.626 seconds\n",
      "\tpSKS phase arrival at 1320.737 seconds\n",
      "\tsSKS phase arrival at 1324.813 seconds\n",
      "\tSS phase arrival at 1570.227 seconds\n",
      "\tPKIKKIKP phase arrival at 1845.737 seconds\n",
      "\tPKKP phase arrival at 1860.940 seconds\n",
      "\tSKIKKIKP phase arrival at 2056.817 seconds\n",
      "\tPKIKKIKS phase arrival at 2060.705 seconds\n",
      "\tSKIKKIKS phase arrival at 2271.576 seconds\n",
      "\tPKIKPPKIKP phase arrival at 2342.416 seconds\n",
      "\tSKIKSSKIKS phase arrival at 3200.802 seconds\n",
      "\tSKSSKS phase arrival at 3215.451 seconds\n"
     ]
    }
   ],
   "source": [
    "#Calaculate Arrival times of major phases given an earthquake location (evlo,evla,evdp)\n",
    "#and a station location (stlo,stla). \n",
    "#event location lat (evla), lon (evlo), and depth (evdp)\n",
    "evlo=-157.841\n",
    "evla=55.325\n",
    "evdp=32.2\n",
    "#station lat (stla) and lon (stlo)\n",
    "stlo=-67.11118\n",
    "stla=18.46749\n",
    "\n",
    "#Calculate the epicentral distance and the traveltimes of major phases\n",
    "gdist=gps2dist_azimuth(evla,evlo,stla,stlo)\n",
    "gdist_deg=kilometers2degrees(gdist[0]/1000)\n",
    "arrivals = model.get_travel_times(source_depth_in_km=evdp,distance_in_degree=gdist_deg)\n",
    "print(arrivals)\n"
   ]
  },
  {
   "cell_type": "code",
   "execution_count": null,
   "id": "subtle-kansas",
   "metadata": {},
   "outputs": [],
   "source": []
  }
 ],
 "metadata": {
  "kernelspec": {
   "display_name": "Python 3",
   "language": "python",
   "name": "python3"
  },
  "language_info": {
   "codemirror_mode": {
    "name": "ipython",
    "version": 3
   },
   "file_extension": ".py",
   "mimetype": "text/x-python",
   "name": "python",
   "nbconvert_exporter": "python",
   "pygments_lexer": "ipython3",
   "version": "3.8.5"
  }
 },
 "nbformat": 4,
 "nbformat_minor": 5
}
