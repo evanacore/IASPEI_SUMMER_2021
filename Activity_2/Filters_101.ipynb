{
 "cells": [
  {
   "cell_type": "markdown",
   "id": "engaging-olympus",
   "metadata": {},
   "source": [
    "Filters 101\n",
    "\n",
    "This notebook aims to explore the impact of filters and data transformations on seismic data. The notebook can be adjusted to explore different filters and different types of earthquake signals (local, regional, teleseismic). The notebook as written captures a local M4.3 earthquake in Southwestern Puert Rico on  2021-06-24 20:10:57.36 UTC as recorded at the broadband station AGPR located in Aguadilla, Puerto Rico (NW corner of PR). \n",
    "\n",
    "As part of the exercise, you will repeat the notebook for the recent M8.2 Alaska earthquake that occured at 2021-07-29 06:15:47 UTC. Note you will need to account for the traveltime to the seismic station for this teleseismic event as well as increase the time window to capture the full waveform. Apply the knowledge on catalogs from yesterday to help you decide on the best time window to use. Take note of the different behavoir and frequency content of the signal. You are also encouraged to change the parameters of the filter to explore the impact upon the waveforms.  \n",
    "\n",
    "\n",
    "The notebook will introduce 3 basic filter types: highpass, lowpass, and bandpass. The results of each filter will be plotted as both a waveform and a spectrogram to permit exploration of the impact of each filter. \n",
    "\n",
    "\n",
    "The first step as with all python codes is to load libraries and modules that will be used in the notebook."
   ]
  },
  {
   "cell_type": "code",
   "execution_count": 18,
   "id": "configured-orbit",
   "metadata": {},
   "outputs": [],
   "source": [
    "import obspy\n",
    "import matplotlib.pyplot as plt\n",
    "import numpy as np\n",
    "from obspy.clients.fdsn import Client\n",
    "from obspy import UTCDateTime\n",
    "from obspy import read, read_inventory\n",
    "from matplotlib import cm\n",
    "import matplotlib as mpl\n"
   ]
  },
  {
   "cell_type": "markdown",
   "id": "bound-brisbane",
   "metadata": {},
   "source": [
    "Now we will retrieve data from a single station for a single earthquake. Note that this notebook assumes that you will be using the IRIS server but this can be run to connect to any SEEDLink server by changing the Client definition.\n",
    "\n",
    "Client: SEEDLink server. Here the default is the IRIS repository.\n",
    "\n",
    "tstart: the UTC time to start getting data YYYY-MM-DD HH:MM:SS.SS\n",
    "\n",
    "tend: the UTC time to end getting data YYYY-MM-DD HH:MM:SS.SS\n",
    "\n",
    "Now get the data from the server and station info from the IRIS server. Note that stations, networks, etc can use wildcards such as * and ?:\n",
    "\n",
    "st= client.get_waveforms('networklist','stationlist','locationcode','channel',tstart,tend,attach_response=True)\n",
    "\n",
    "You also need to retrieve the station metadata that is associated with the waveforms: \n",
    "\n",
    "inv=client.get_stations(network='network_list',station='*',channel='HHZ',starttime=tstart,endtime=tend, level='response', matchtimeseries=True)\n",
    "\n",
    "Key Parameters:\n",
    "\n",
    "'networklist': The network list can be any real or virtual network available on the server. You will receive an error if a network does not exist. You can request mutiple networks by using a comma separated list with NO spaces e.g. PR,GS,IU\n",
    "\n",
    "'stationlist': This is the list of station(s) to be included. It may be a comma separeted value list or a wildcard such as * denoting retrieve all.\n",
    "\n",
    "'locationcode': specify the location code of the stations to be downloaded.\n",
    "\n",
    "'channel': Specify the channel you want to use for the record section\n",
    "\n"
   ]
  },
  {
   "cell_type": "code",
   "execution_count": 21,
   "id": "removable-belgium",
   "metadata": {},
   "outputs": [],
   "source": [
    "client = Client(\"IRIS\")\n",
    "tstart = UTCDateTime(\"2021-06-24 20:10:57.36\")\n",
    "tend = UTCDateTime(\"2021-06-24 20:12:57.36\")\n",
    "\n",
    "st = client.get_waveforms('PR','MLPR','*','?H?',tstart,tend,attach_response=True)\n",
    "inv = client.get_stations(network='PR',station='MLPR',channel='?H?',starttime=tstart,endtime=tend, level='response', matchtimeseries=True)"
   ]
  },
  {
   "cell_type": "markdown",
   "id": "grateful-column",
   "metadata": {},
   "source": [
    " Now let's plot the Raw data. Is it possible to pick the P and S wave in the Raw Data? If so use your cursor to determine the P and S arrival. Record this and also note the polarity of the P wave and if it is an emergent or impulsive arrival. Once you have done this close the pop-up window to continue"
   ]
  },
  {
   "cell_type": "code",
   "execution_count": 22,
   "id": "perceived-progress",
   "metadata": {
    "scrolled": true
   },
   "outputs": [
    {
     "name": "stdout",
     "output_type": "stream",
     "text": [
      "Using matplotlib backend: MacOSX\n"
     ]
    }
   ],
   "source": [
    "dt= st[0].stats.starttime\n",
    "%matplotlib\n",
    "fig=st.plot()"
   ]
  },
  {
   "cell_type": "markdown",
   "id": "chubby-tension",
   "metadata": {},
   "source": [
    "Now let's examine the frequency content of the Raw data by plotting the spectogram. In order to better visualize the frequency content, this code snippet also creates a custom colorbar for the spectrogram.\n",
    "\n",
    "Note that for looking at teleseismic events or other events you may need to change the parameters for plotting. Specifically the y limit (ax2.set_ylim) may need to be changed to highlight the frequencies contained in a specific waveform.\n",
    "\n",
    "The code snippet repeats 3 times so each component can be plotted. Do you think you could make P and S picks off of the spectrogram? What use do you think spectrograms may play in day to day operations?\n"
   ]
  },
  {
   "cell_type": "code",
   "execution_count": 24,
   "id": "vocal-pickup",
   "metadata": {},
   "outputs": [
    {
     "name": "stdout",
     "output_type": "stream",
     "text": [
      "Using matplotlib backend: MacOSX\n",
      "PR.MLPR.00.HH1 | 2021-06-24T20:10:57.360000Z - 2021-06-24T20:12:57.360000Z | 100.0 Hz, 12001 samples\n"
     ]
    }
   ],
   "source": [
    "##Plot the HH1 component\n",
    "# Step one set up axes for the multipart figure\n",
    "%matplotlib\n",
    "fig = plt.figure()\n",
    "ax1 = fig.add_axes([0.1, 0.75, 0.7, 0.2]) #[left bottom width height]\n",
    "ax2 = fig.add_axes([0.1, 0.1, 0.7, 0.60], sharex=ax1)\n",
    "ax3 = fig.add_axes([0.83, 0.1, 0.03, 0.6])\n",
    "\n",
    "#plot the waveform in ax1\n",
    "t = np.arange(st[0].stats.npts) / st[0].stats.sampling_rate\n",
    "print(st[0])\n",
    "ax1.plot(t, st[0].data, 'k')\n",
    "\n",
    "#plot the spectrogram in ax2\n",
    "st[0].spectrogram(show=False, axes=ax2)\n",
    "#set the y limits to select frequenies plotted\n",
    "ax2.set_ylim((0.02,20)) \n",
    "ax2.set_xlabel('Time (s)')\n",
    "ax2.set_ylabel('Frequency (Hz)')\n",
    "#Get information for the spectrogram to create and plot a colorbar in ax3\n",
    "mappable = ax2.images[0]\n",
    "cb=plt.colorbar(mappable=mappable, cax=ax3)\n",
    "cb.set_label('Power')\n",
    "\n"
   ]
  },
  {
   "cell_type": "code",
   "execution_count": 25,
   "id": "incredible-plastic",
   "metadata": {},
   "outputs": [
    {
     "name": "stdout",
     "output_type": "stream",
     "text": [
      "Using matplotlib backend: MacOSX\n",
      "PR.MLPR.00.HH2 | 2021-06-24T20:10:57.360000Z - 2021-06-24T20:12:57.360000Z | 100.0 Hz, 12001 samples\n"
     ]
    }
   ],
   "source": [
    "\n",
    "#Repeat the process for the HH2 component\n",
    "%matplotlib\n",
    "fig2 = plt.figure()\n",
    "ax1 = fig2.add_axes([0.1, 0.75, 0.7, 0.2]) #[left bottom width height]\n",
    "ax2 = fig2.add_axes([0.1, 0.1, 0.7, 0.60], sharex=ax1)\n",
    "ax3 = fig2.add_axes([0.83, 0.1, 0.03, 0.6])\n",
    "\n",
    "print(st[1])\n",
    "ax1.plot(t, st[1].data, 'k')\n",
    "st[1].spectrogram(show=False, axes=ax2)\n",
    "ax2.set_ylim((0.02,20)) \n",
    "ax2.set_xlabel('Time (s)')\n",
    "ax2.set_ylabel('Frequency (Hz)')\n",
    "mappable = ax2.images[0]\n",
    "cb=plt.colorbar(mappable=mappable, cax=ax3)\n",
    "cb.set_label('Power')\n",
    "\n",
    "\n",
    "\n",
    "\n"
   ]
  },
  {
   "cell_type": "code",
   "execution_count": 26,
   "id": "lesbian-victim",
   "metadata": {},
   "outputs": [
    {
     "name": "stdout",
     "output_type": "stream",
     "text": [
      "Using matplotlib backend: MacOSX\n",
      "PR.MLPR.00.HHZ | 2021-06-24T20:10:57.360000Z - 2021-06-24T20:12:57.360000Z | 100.0 Hz, 12001 samples\n"
     ]
    }
   ],
   "source": [
    "\n",
    "## Repeat once more for the HHZ component\n",
    "%matplotlib\n",
    "fig3 = plt.figure()\n",
    "ax1 = fig3.add_axes([0.1, 0.75, 0.7, 0.2]) #[left bottom width height]\n",
    "ax2 = fig3.add_axes([0.1, 0.1, 0.7, 0.60], sharex=ax1)\n",
    "ax3 = fig3.add_axes([0.83, 0.1, 0.03, 0.6])\n",
    "print(st[2])\n",
    "ax1.plot(t, st[2].data, 'k')\n",
    "st[2].spectrogram(show=False, axes=ax2, title=st[2])\n",
    "ax2.set_ylim((0.02,20)) \n",
    "ax2.set_xlabel('Time (s)')\n",
    "ax2.set_ylabel('Frequency (Hz)')\n",
    "mappable = ax2.images[0]\n",
    "cb=plt.colorbar(mappable=mappable, cax=ax3)\n",
    "cb.set_label('Power')\n"
   ]
  },
  {
   "cell_type": "markdown",
   "id": "elect-preference",
   "metadata": {},
   "source": [
    "Now that we have seen the Raw data; let's start exploring what happens we apply different filters. Feel free to change numbers and explore. Every earthquake and station has its own personality so sometimes a \"standard\" filter needs to be adjusted.\n",
    "\n",
    "First step: 1. copy the Raw data to a new variable! This perserves the raw data in the original stream variable (st)\n",
    "\n",
    "Second we will start with a high pass filter. This filter will permit frequencies higher than a given limit to remain inthe waveform while eliminating lower frquencies. It is good practice when filtering to deman and dtrend the data as well to remove instrument drift due to things such as daily temperature fluctuations.\n",
    "\n",
    "It is suggested to run this notebook for a few different corner frequencies. What do you observe? At each frequency try re-picking the P and S wave. How do the picks change?\n",
    "\n",
    "When repeating this notebook for the teleseimic event consider the results from plotting the spectrogram and adjust the corner frequency accordingly. Note that as with the previous section the ax2.set_ylim parameters may also need to be adjusted for better visualization of your results.\n",
    "\n",
    "\n",
    "For more information on filtering streams in Obspy and more options see: https://docs.obspy.org/packages/autogen/obspy.core.stream.Stream.filter.html\n",
    "\n"
   ]
  },
  {
   "cell_type": "code",
   "execution_count": 27,
   "id": "injured-honolulu",
   "metadata": {},
   "outputs": [
    {
     "name": "stdout",
     "output_type": "stream",
     "text": [
      "Using matplotlib backend: MacOSX\n"
     ]
    }
   ],
   "source": [
    "#copy the data\n",
    "tr = st.copy()\n",
    "#demean and detrend\n",
    "tr.detrend(type='demean')\n",
    "tr.detrend(type='linear')\n",
    "#highpass filter the data\n",
    "tr.filter(\"highpass\", freq=5.0, corners=4, zerophase=False)\n",
    "\n",
    "#plot the data\n",
    "%matplotlib\n",
    "fig = tr.plot()\n"
   ]
  },
  {
   "cell_type": "code",
   "execution_count": 28,
   "id": "increasing-barbados",
   "metadata": {},
   "outputs": [
    {
     "name": "stdout",
     "output_type": "stream",
     "text": [
      "Using matplotlib backend: MacOSX\n",
      "PR.MLPR.00.HH1 | 2021-06-24T20:10:57.360000Z - 2021-06-24T20:12:57.360000Z | 100.0 Hz, 12001 samples\n"
     ]
    }
   ],
   "source": [
    "\n",
    "#plot the spectograms\n",
    "##Plot the HH1 component\n",
    "# Step one set up axes for the multipart figure\n",
    "%matplotlib\n",
    "fig = plt.figure()\n",
    "ax1 = fig.add_axes([0.1, 0.75, 0.7, 0.2]) #[left bottom width height]\n",
    "ax2 = fig.add_axes([0.1, 0.1, 0.7, 0.60], sharex=ax1)\n",
    "ax3 = fig.add_axes([0.83, 0.1, 0.03, 0.6])\n",
    "\n",
    "#plot the waveform in ax1\n",
    "t = np.arange(st[0].stats.npts) / st[0].stats.sampling_rate\n",
    "print(st[0])\n",
    "ax1.plot(t, st[0].data, 'k')\n",
    "\n",
    "#plot the spectrogram in ax2\n",
    "st[0].spectrogram(show=False, axes=ax2)\n",
    "#set the y limits to select frequenies plotted\n",
    "ax2.set_ylim((0.02,20)) \n",
    "ax2.set_xlabel('Time (s)')\n",
    "ax2.set_ylabel('Frequency (Hz)')\n",
    "#Get information for the spectrogram to create and plot a colorbar in ax3\n",
    "mappable = ax2.images[0]\n",
    "cb=plt.colorbar(mappable=mappable, cax=ax3)\n",
    "cb.set_label('Power')\n",
    "\n",
    "\n"
   ]
  },
  {
   "cell_type": "code",
   "execution_count": 29,
   "id": "fiscal-scotland",
   "metadata": {},
   "outputs": [
    {
     "name": "stdout",
     "output_type": "stream",
     "text": [
      "Using matplotlib backend: MacOSX\n",
      "PR.MLPR.00.HH2 | 2021-06-24T20:10:57.360000Z - 2021-06-24T20:12:57.360000Z | 100.0 Hz, 12001 samples\n"
     ]
    }
   ],
   "source": [
    "#Repeat the process for the HH2 component\n",
    "%matplotlib\n",
    "fig2 = plt.figure()\n",
    "ax1 = fig2.add_axes([0.1, 0.75, 0.7, 0.2]) #[left bottom width height]\n",
    "ax2 = fig2.add_axes([0.1, 0.1, 0.7, 0.60], sharex=ax1)\n",
    "ax3 = fig2.add_axes([0.83, 0.1, 0.03, 0.6])\n",
    "\n",
    "print(st[1])\n",
    "ax1.plot(t, st[1].data, 'k')\n",
    "st[1].spectrogram(show=False, axes=ax2)\n",
    "ax2.set_ylim((0.02,20)) \n",
    "ax2.set_xlabel('Time (s)')\n",
    "ax2.set_ylabel('Frequency (Hz)')\n",
    "mappable = ax2.images[0]\n",
    "cb=plt.colorbar(mappable=mappable, cax=ax3)\n",
    "cb.set_label('Power')\n",
    "\n"
   ]
  },
  {
   "cell_type": "code",
   "execution_count": 30,
   "id": "radio-politics",
   "metadata": {},
   "outputs": [
    {
     "name": "stdout",
     "output_type": "stream",
     "text": [
      "Using matplotlib backend: MacOSX\n",
      "PR.MLPR.00.HHZ | 2021-06-24T20:10:57.360000Z - 2021-06-24T20:12:57.360000Z | 100.0 Hz, 12001 samples\n"
     ]
    }
   ],
   "source": [
    "\n",
    "\n",
    "## Repeat once more for the HHZ component\n",
    "%matplotlib\n",
    "fig3 = plt.figure()\n",
    "ax1 = fig3.add_axes([0.1, 0.75, 0.7, 0.2]) #[left bottom width height]\n",
    "ax2 = fig3.add_axes([0.1, 0.1, 0.7, 0.60], sharex=ax1)\n",
    "ax3 = fig3.add_axes([0.83, 0.1, 0.03, 0.6])\n",
    "print(st[2])\n",
    "ax1.plot(t, st[2].data, 'k')\n",
    "st[2].spectrogram(show=False, axes=ax2, title=st[2])\n",
    "ax2.set_ylim((0.02,20)) \n",
    "ax2.set_xlabel('Time (s)')\n",
    "ax2.set_ylabel('Frequency (Hz)')\n",
    "mappable = ax2.images[0]\n",
    "cb=plt.colorbar(mappable=mappable, cax=ax3)\n",
    "cb.set_label('Power')\n"
   ]
  },
  {
   "cell_type": "markdown",
   "id": "settled-amsterdam",
   "metadata": {},
   "source": [
    "Now let's repeat the same exercise, but this time apply a lowpass filter. This filter will keep frequencies below the given corner frequency while eliminating higher frequencies.\n",
    "\n",
    "What do you observe? Try re-picking the P and S wave. How do the picks change?\n",
    "\n",
    "\n",
    "When repeating this notebook for the teleseimic event consider the results from plotting the spectrogram and adjust the corner frequency accordingly. Note that as with the previous section the ax2.set_ylim parameters may also need to be adjusted for better visualization of your results.\n"
   ]
  },
  {
   "cell_type": "code",
   "execution_count": 31,
   "id": "collectible-nicholas",
   "metadata": {},
   "outputs": [
    {
     "name": "stdout",
     "output_type": "stream",
     "text": [
      "Using matplotlib backend: MacOSX\n"
     ]
    }
   ],
   "source": [
    "#copy the data\n",
    "tr = st.copy()\n",
    "#demean and detrend\n",
    "tr.detrend(type='demean')\n",
    "tr.detrend(type='linear')\n",
    "#highpass filter the data\n",
    "tr.filter(\"lowpass\", freq=2.0, corners=4, zerophase=False)\n",
    "\n",
    "#plot the data\n",
    "%matplotlib\n",
    "fig = tr.plot()\n",
    "\n"
   ]
  },
  {
   "cell_type": "code",
   "execution_count": 32,
   "id": "saved-blair",
   "metadata": {},
   "outputs": [
    {
     "name": "stdout",
     "output_type": "stream",
     "text": [
      "Using matplotlib backend: MacOSX\n",
      "PR.MLPR.00.HH1 | 2021-06-24T20:10:57.360000Z - 2021-06-24T20:12:57.360000Z | 100.0 Hz, 12001 samples\n"
     ]
    }
   ],
   "source": [
    "#plot the spectograms\n",
    "##Plot the HH1 component\n",
    "# Step one set up axes for the multipart figure\n",
    "%matplotlib\n",
    "fig = plt.figure()\n",
    "ax1 = fig.add_axes([0.1, 0.75, 0.7, 0.2]) #[left bottom width height]\n",
    "ax2 = fig.add_axes([0.1, 0.1, 0.7, 0.60], sharex=ax1)\n",
    "ax3 = fig.add_axes([0.83, 0.1, 0.03, 0.6])\n",
    "\n",
    "#plot the waveform in ax1\n",
    "t = np.arange(st[0].stats.npts) / st[0].stats.sampling_rate\n",
    "print(st[0])\n",
    "ax1.plot(t, st[0].data, 'k')\n",
    "\n",
    "#plot the spectrogram in ax2\n",
    "st[0].spectrogram(show=False, axes=ax2)\n",
    "#set the y limits to select frequenies plotted\n",
    "ax2.set_ylim((0.02,20)) \n",
    "ax2.set_xlabel('Time (s)')\n",
    "ax2.set_ylabel('Frequency (Hz)')\n",
    "#Get information for the spectrogram to create and plot a colorbar in ax3\n",
    "mappable = ax2.images[0]\n",
    "cb=plt.colorbar(mappable=mappable, cax=ax3)\n",
    "cb.set_label('Power')\n",
    "\n",
    "\n"
   ]
  },
  {
   "cell_type": "code",
   "execution_count": 33,
   "id": "sitting-knife",
   "metadata": {},
   "outputs": [
    {
     "name": "stdout",
     "output_type": "stream",
     "text": [
      "Using matplotlib backend: MacOSX\n",
      "PR.MLPR.00.HH2 | 2021-06-24T20:10:57.360000Z - 2021-06-24T20:12:57.360000Z | 100.0 Hz, 12001 samples\n"
     ]
    }
   ],
   "source": [
    "#Repeat the process for the HH2 component\n",
    "%matplotlib\n",
    "fig2 = plt.figure()\n",
    "ax1 = fig2.add_axes([0.1, 0.75, 0.7, 0.2]) #[left bottom width height]\n",
    "ax2 = fig2.add_axes([0.1, 0.1, 0.7, 0.60], sharex=ax1)\n",
    "ax3 = fig2.add_axes([0.83, 0.1, 0.03, 0.6])\n",
    "\n",
    "print(st[1])\n",
    "ax1.plot(t, st[1].data, 'k')\n",
    "st[1].spectrogram(show=False, axes=ax2)\n",
    "ax2.set_ylim((0.02,20)) \n",
    "ax2.set_xlabel('Time (s)')\n",
    "ax2.set_ylabel('Frequency (Hz)')\n",
    "mappable = ax2.images[0]\n",
    "cb=plt.colorbar(mappable=mappable, cax=ax3)\n",
    "cb.set_label('Power')\n",
    "\n"
   ]
  },
  {
   "cell_type": "code",
   "execution_count": 34,
   "id": "fewer-republic",
   "metadata": {},
   "outputs": [
    {
     "name": "stdout",
     "output_type": "stream",
     "text": [
      "Using matplotlib backend: MacOSX\n",
      "PR.MLPR.00.HHZ | 2021-06-24T20:10:57.360000Z - 2021-06-24T20:12:57.360000Z | 100.0 Hz, 12001 samples\n"
     ]
    }
   ],
   "source": [
    "\n",
    "\n",
    "## Repeat once more for the HHZ component\n",
    "%matplotlib\n",
    "fig3 = plt.figure()\n",
    "ax1 = fig3.add_axes([0.1, 0.75, 0.7, 0.2]) #[left bottom width height]\n",
    "ax2 = fig3.add_axes([0.1, 0.1, 0.7, 0.60], sharex=ax1)\n",
    "ax3 = fig3.add_axes([0.83, 0.1, 0.03, 0.6])\n",
    "print(st[2])\n",
    "ax1.plot(t, st[2].data, 'k')\n",
    "st[2].spectrogram(show=False, axes=ax2, title=st[2])\n",
    "ax2.set_ylim((0.02,20)) \n",
    "ax2.set_xlabel('Time (s)')\n",
    "ax2.set_ylabel('Frequency (Hz)')\n",
    "mappable = ax2.images[0]\n",
    "cb=plt.colorbar(mappable=mappable, cax=ax3)\n",
    "cb.set_label('Power')\n"
   ]
  },
  {
   "cell_type": "markdown",
   "id": "ready-coordinator",
   "metadata": {},
   "source": [
    "Finally what happens when we put the two filters together? This is what is called a bandpass filter. This filter permits data between two frequencies to be retained whilst removing frequencies above or below the permitted frequency band. These frequencies are denoted by freqmin and freqmax. As with the other sections, change these and observe the impact on the corners on the waveforms and spectrograms. Also make picks for the P and S wave arrivals to determine how they change. \n",
    "\n",
    "\n",
    "\n",
    "\n",
    "When repeating this notebook for the teleseimic event consider the results from plotting the spectrogram and adjust the corner frequency accordingly. Note that as with the previous section the set_ylim parameters may also need to be adjusted for better visualization of your results.\n",
    "\n"
   ]
  },
  {
   "cell_type": "code",
   "execution_count": 35,
   "id": "electric-color",
   "metadata": {},
   "outputs": [
    {
     "name": "stdout",
     "output_type": "stream",
     "text": [
      "Using matplotlib backend: MacOSX\n"
     ]
    }
   ],
   "source": [
    "#copy the data\n",
    "tr = st.copy()\n",
    "#demean and detrend\n",
    "tr.detrend(type='demean')\n",
    "tr.detrend(type='linear')\n",
    "#highpass filter the data\n",
    "tr.filter(\"bandpass\", freqmin=2.0, freqmax=6.0, corners=4, zerophase=False)\n",
    "\n",
    "#plot the data\n",
    "%matplotlib\n",
    "fig = tr.plot()\n",
    "\n"
   ]
  },
  {
   "cell_type": "code",
   "execution_count": 36,
   "id": "burning-assembly",
   "metadata": {},
   "outputs": [
    {
     "name": "stdout",
     "output_type": "stream",
     "text": [
      "Using matplotlib backend: MacOSX\n",
      "PR.MLPR.00.HH1 | 2021-06-24T20:10:57.360000Z - 2021-06-24T20:12:57.360000Z | 100.0 Hz, 12001 samples\n"
     ]
    }
   ],
   "source": [
    "##Plot the HH1 component\n",
    "# Step one set up axes for the multipart figure\n",
    "%matplotlib\n",
    "fig = plt.figure()\n",
    "ax1 = fig.add_axes([0.1, 0.75, 0.7, 0.2]) #[left bottom width height]\n",
    "ax2 = fig.add_axes([0.1, 0.1, 0.7, 0.60], sharex=ax1)\n",
    "ax3 = fig.add_axes([0.83, 0.1, 0.03, 0.6])\n",
    "\n",
    "#plot the waveform in ax1\n",
    "t = np.arange(st[0].stats.npts) / st[0].stats.sampling_rate\n",
    "print(st[0])\n",
    "ax1.plot(t, st[0].data, 'k')\n",
    "\n",
    "#plot the spectrogram in ax2\n",
    "st[0].spectrogram(show=False, axes=ax2)\n",
    "#set the y limits to select frequenies plotted\n",
    "ax2.set_ylim((0.02,20)) \n",
    "ax2.set_xlabel('Time (s)')\n",
    "ax2.set_ylabel('Frequency (Hz)')\n",
    "#Get information for the spectrogram to create and plot a colorbar in ax3\n",
    "mappable = ax2.images[0]\n",
    "cb=plt.colorbar(mappable=mappable, cax=ax3)\n",
    "cb.set_label('Power')\n",
    "\n",
    "\n"
   ]
  },
  {
   "cell_type": "code",
   "execution_count": 37,
   "id": "separate-destiny",
   "metadata": {},
   "outputs": [
    {
     "name": "stdout",
     "output_type": "stream",
     "text": [
      "Using matplotlib backend: MacOSX\n",
      "PR.MLPR.00.HH2 | 2021-06-24T20:10:57.360000Z - 2021-06-24T20:12:57.360000Z | 100.0 Hz, 12001 samples\n"
     ]
    }
   ],
   "source": [
    "#Repeat the process for the HH2 component\n",
    "%matplotlib\n",
    "fig2 = plt.figure()\n",
    "ax1 = fig2.add_axes([0.1, 0.75, 0.7, 0.2]) #[left bottom width height]\n",
    "ax2 = fig2.add_axes([0.1, 0.1, 0.7, 0.60], sharex=ax1)\n",
    "ax3 = fig2.add_axes([0.83, 0.1, 0.03, 0.6])\n",
    "\n",
    "print(st[1])\n",
    "ax1.plot(t, st[1].data, 'k')\n",
    "st[1].spectrogram(show=False, axes=ax2)\n",
    "ax2.set_ylim((0.02,20)) \n",
    "ax2.set_xlabel('Time (s)')\n",
    "ax2.set_ylabel('Frequency (Hz)')\n",
    "mappable = ax2.images[0]\n",
    "cb=plt.colorbar(mappable=mappable, cax=ax3)\n",
    "cb.set_label('Power')\n",
    "\n",
    "\n"
   ]
  },
  {
   "cell_type": "code",
   "execution_count": 38,
   "id": "introductory-relief",
   "metadata": {},
   "outputs": [
    {
     "name": "stdout",
     "output_type": "stream",
     "text": [
      "Using matplotlib backend: MacOSX\n",
      "PR.MLPR.00.HHZ | 2021-06-24T20:10:57.360000Z - 2021-06-24T20:12:57.360000Z | 100.0 Hz, 12001 samples\n"
     ]
    }
   ],
   "source": [
    "\n",
    "## Repeat once more for the HHZ component\n",
    "%matplotlib\n",
    "fig3 = plt.figure()\n",
    "ax1 = fig3.add_axes([0.1, 0.75, 0.7, 0.2]) #[left bottom width height]\n",
    "ax2 = fig3.add_axes([0.1, 0.1, 0.7, 0.60], sharex=ax1)\n",
    "ax3 = fig3.add_axes([0.83, 0.1, 0.03, 0.6])\n",
    "print(st[2])\n",
    "ax1.plot(t, st[2].data, 'k')\n",
    "st[2].spectrogram(show=False, axes=ax2, title=st[2])\n",
    "ax2.set_ylim((0.02,20)) \n",
    "ax2.set_xlabel('Time (s)')\n",
    "ax2.set_ylabel('Frequency (Hz)')\n",
    "mappable = ax2.images[0]\n",
    "cb=plt.colorbar(mappable=mappable, cax=ax3)\n",
    "cb.set_label('Power')\n"
   ]
  },
  {
   "cell_type": "markdown",
   "id": "legislative-engagement",
   "metadata": {},
   "source": [
    "Beyond Filtering: Data transformations\n",
    "\n",
    "This was basic filtering, however for many analyses the Raw data needs to be transformed into a different form such as displacement or acceleration. This can be simply removing the instrument response or transfer the data into displacement, acceleration, or to a different instrument response type.  For instance to calculate a local magnitude one must transfer the raw seismic data into how the data would appear as recorded on a Woods-Anderson seismometer.\n",
    "\n",
    "For the purpose of this exercise you will practice two types of common data transforms. In the first part below you will transfer the data from raw data to displacement with the instrument response removed. The second part converts the seismograms to a Woods-Anderson response. \n",
    "\n",
    "For each section compare the signals and then try varying the water-level and pre-filtering variables. It is worth commenting out the pre-filter and removing it from the response removal command to explore the impact of prefiltering on the signal. As with the filters try to pick the P and S arrival, how do they compare to the Raw data?\n",
    "\n"
   ]
  },
  {
   "cell_type": "code",
   "execution_count": 39,
   "id": "deadly-bobby",
   "metadata": {},
   "outputs": [
    {
     "name": "stdout",
     "output_type": "stream",
     "text": [
      "Using matplotlib backend: MacOSX\n"
     ]
    }
   ],
   "source": [
    "tr = st.copy()\n",
    "\n",
    "#before changing the data to displacement and removing the intstrument response, etc a prefilter must be defined in order to\n",
    "#avoid amplifying noise--> to see what happens without this step remove the prefilter\n",
    "#Also try changing the water level. What happens as the water level is raised\n",
    "pre_filt = (0.001, 0.005, 30.0, 35.0)\n",
    "tr2 = tr.remove_response(inventory=inv, output='DISP', pre_filt=pre_filt, water_level=5, plot=True)\n",
    "\n",
    "#Plot the transformed data\n",
    "%matplotlib\n",
    "fig=tr2.plot()\n"
   ]
  },
  {
   "cell_type": "markdown",
   "id": "actual-craft",
   "metadata": {},
   "source": [
    "In this section the the signal is converted to a Woods-Anderson signal. In Obspy there are other methods avaailble to retrieve the W-A amplitudes for magnitudes, but for the purposes of this part the manual transfer is being shown such that when Ml is dicussed later in the course you will understand the signal being produced. As with the other data pick the P and S arrival and compare this to the Raw data. Also take note of the y scale, how has this changed? Why do you think that is?"
   ]
  },
  {
   "cell_type": "code",
   "execution_count": 40,
   "id": "breeding-berkeley",
   "metadata": {},
   "outputs": [
    {
     "name": "stdout",
     "output_type": "stream",
     "text": [
      "Using matplotlib backend: MacOSX\n"
     ]
    }
   ],
   "source": [
    "tr = st.copy()\n",
    "\n",
    "\n",
    "#before changing the data to displacement and removing the intstrument response, etc a prefilter must be defined in order to\n",
    "#avoid amplifying noise--> to see what happens without this step remove the prefilter\n",
    "#Also try changing the water level. What happens as the water level is raised\n",
    "pre_filt = (0.001, 0.005, 30.0, 35.0)\n",
    "tr2 = tr.remove_response(inventory=inv, output='DISP', pre_filt=pre_filt, water_level=5, plot=False)\n",
    "#Now define the Woods-Anderson response by its poles and zeros\n",
    "paz_wa = {'sensitivity': 2800, 'zeros': [0j], 'gain': 1,\n",
    "          'poles': [-6.2832 - 4.7124j, -6.2832 + 4.7124j]}\n",
    "\n",
    "#Now convert to the Woods-Anderson response\n",
    "tr3 = tr2.simulate(paz_remove=None, paz_simulate=paz_wa, water_level=5)\n",
    "%matplotlib\n",
    "fig=tr3.plot()\n",
    "\n"
   ]
  },
  {
   "cell_type": "code",
   "execution_count": null,
   "id": "agricultural-register",
   "metadata": {},
   "outputs": [],
   "source": []
  },
  {
   "cell_type": "code",
   "execution_count": null,
   "id": "organized-characterization",
   "metadata": {},
   "outputs": [],
   "source": []
  },
  {
   "cell_type": "code",
   "execution_count": null,
   "id": "changing-walnut",
   "metadata": {},
   "outputs": [],
   "source": []
  }
 ],
 "metadata": {
  "kernelspec": {
   "display_name": "Python 3",
   "language": "python",
   "name": "python3"
  },
  "language_info": {
   "codemirror_mode": {
    "name": "ipython",
    "version": 3
   },
   "file_extension": ".py",
   "mimetype": "text/x-python",
   "name": "python",
   "nbconvert_exporter": "python",
   "pygments_lexer": "ipython3",
   "version": "3.8.5"
  }
 },
 "nbformat": 4,
 "nbformat_minor": 5
}
